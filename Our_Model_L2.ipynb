{
 "cells": [
  {
   "cell_type": "code",
   "execution_count": 560,
   "metadata": {},
   "outputs": [],
   "source": [
    "import numpy as np\n",
    "import pandas as pd\n",
    "import matplotlib.pyplot as plt"
   ]
  },
  {
   "cell_type": "code",
   "execution_count": 712,
   "metadata": {},
   "outputs": [],
   "source": [
    "def initialize_parameters(layer_dims):\n",
    "    np.random.seed(3)\n",
    "    parameters = {}\n",
    "    L = len(layer_dims)            # number of layers in the network\n",
    "\n",
    "    for l in range(1, L):\n",
    "        \n",
    "        parameters['W' + str(l)] = (np.random.randn(layer_dims[l], layer_dims[l - 1])) * 0.01\n",
    "        parameters['b' + str(l)] = np.zeros((layer_dims[l], 1))\n",
    "        \n",
    "        \n",
    "        assert(parameters['W' + str(l)].shape == (layer_dims[l], layer_dims[l-1]))\n",
    "        assert(parameters['b' + str(l)].shape == (layer_dims[l], 1))\n",
    "\n",
    "        \n",
    "    return parameters"
   ]
  },
  {
   "cell_type": "code",
   "execution_count": 713,
   "metadata": {},
   "outputs": [
    {
     "name": "stdout",
     "output_type": "stream",
     "text": [
      "W1 = [[ 0.01788628  0.0043651   0.00096497 ...  0.01119391  0.01487543\n",
      "  -0.01118301]\n",
      " [ 0.00845833 -0.0186089  -0.00602885 ...  0.0031306  -0.00516648\n",
      "  -0.00189072]\n",
      " [-0.00416198  0.00724658 -0.00689961 ... -0.00071219 -0.01486658\n",
      "   0.01408627]\n",
      " ...\n",
      " [ 0.00742417 -0.015124    0.00057336 ...  0.00124304 -0.00261695\n",
      "  -0.00258313]\n",
      " [-0.00529448  0.00314887 -0.00428391 ... -0.00364557 -0.00038221\n",
      "  -0.00845224]\n",
      " [-0.00672167  0.00675424 -0.00357946 ... -0.00773316 -0.00805247\n",
      "  -0.00849721]]\n",
      "b1 = [[0.]\n",
      " [0.]\n",
      " [0.]\n",
      " [0.]\n",
      " [0.]\n",
      " [0.]\n",
      " [0.]\n",
      " [0.]\n",
      " [0.]\n",
      " [0.]\n",
      " [0.]\n",
      " [0.]\n",
      " [0.]\n",
      " [0.]\n",
      " [0.]\n",
      " [0.]\n",
      " [0.]\n",
      " [0.]\n",
      " [0.]\n",
      " [0.]\n",
      " [0.]\n",
      " [0.]\n",
      " [0.]\n",
      " [0.]\n",
      " [0.]\n",
      " [0.]\n",
      " [0.]\n",
      " [0.]\n",
      " [0.]\n",
      " [0.]\n",
      " [0.]\n",
      " [0.]\n",
      " [0.]\n",
      " [0.]\n",
      " [0.]\n",
      " [0.]\n",
      " [0.]\n",
      " [0.]\n",
      " [0.]\n",
      " [0.]\n",
      " [0.]\n",
      " [0.]\n",
      " [0.]\n",
      " [0.]\n",
      " [0.]\n",
      " [0.]\n",
      " [0.]\n",
      " [0.]\n",
      " [0.]\n",
      " [0.]\n",
      " [0.]\n",
      " [0.]\n",
      " [0.]\n",
      " [0.]\n",
      " [0.]\n",
      " [0.]\n",
      " [0.]\n",
      " [0.]\n",
      " [0.]\n",
      " [0.]\n",
      " [0.]\n",
      " [0.]\n",
      " [0.]\n",
      " [0.]\n",
      " [0.]\n",
      " [0.]\n",
      " [0.]\n",
      " [0.]\n",
      " [0.]\n",
      " [0.]\n",
      " [0.]\n",
      " [0.]\n",
      " [0.]\n",
      " [0.]\n",
      " [0.]\n",
      " [0.]\n",
      " [0.]\n",
      " [0.]\n",
      " [0.]\n",
      " [0.]\n",
      " [0.]\n",
      " [0.]\n",
      " [0.]\n",
      " [0.]\n",
      " [0.]\n",
      " [0.]\n",
      " [0.]\n",
      " [0.]\n",
      " [0.]\n",
      " [0.]\n",
      " [0.]\n",
      " [0.]\n",
      " [0.]\n",
      " [0.]\n",
      " [0.]\n",
      " [0.]\n",
      " [0.]\n",
      " [0.]\n",
      " [0.]\n",
      " [0.]]\n",
      "W2 = [[-1.36936943e-02  1.25916053e-02  1.88883235e-04 -9.04042996e-04\n",
      "  -3.08350166e-02  1.64709126e-02  7.03301817e-03 -1.62189065e-02\n",
      "  -3.32112077e-03 -1.41096523e-02  8.30462166e-03 -7.25743008e-03\n",
      "   9.70625288e-03  2.70647999e-03  4.61293985e-03 -1.49888655e-02\n",
      "   4.14643178e-03 -9.24117251e-03 -4.41648982e-03 -5.16334092e-03\n",
      "  -1.54929917e-02  1.01186713e-02 -3.55576240e-03  2.97919642e-03\n",
      "  -8.42340437e-03 -6.79312649e-03  2.64205391e-04 -8.60657935e-03\n",
      "   5.13886106e-03  1.13123114e-02 -6.17678492e-03 -2.00932083e-03\n",
      "   1.75455351e-02 -2.37939902e-03 -7.59183978e-03 -9.72057849e-03\n",
      "   4.48487474e-03  1.72347283e-02 -5.26958338e-03 -3.40696293e-03\n",
      "   5.15415656e-03 -8.34080617e-03 -2.01316216e-03  7.23733193e-03\n",
      "  -2.57601979e-03  3.82899204e-03 -1.80702674e-03  7.61817214e-03\n",
      "  -4.09233505e-03  1.70871692e-02 -3.57099687e-03 -1.55898652e-02\n",
      "  -8.18527412e-04  5.66422989e-03 -5.29240078e-03  4.14796084e-03\n",
      "   4.99358570e-03 -3.97838678e-03  6.66932590e-03 -2.57031689e-02\n",
      "   1.70415468e-02  5.84542941e-03 -1.06351089e-02 -9.33209726e-03\n",
      "   5.01219583e-03  1.37881458e-02  8.41259694e-03 -5.82816065e-03\n",
      "  -2.03464460e-02 -8.57179718e-03 -3.83980539e-03 -3.41224474e-05\n",
      "  -1.13219363e-02 -7.72119575e-03  5.97700726e-04 -2.77190589e-03\n",
      "  -5.63357489e-03  3.27714509e-03  1.38815587e-02  9.10255716e-03\n",
      "   2.41879906e-02 -1.29825015e-02 -9.42852730e-03 -5.45162034e-03\n",
      "   1.13775144e-02  6.57602622e-03 -1.34419808e-02 -2.06874135e-02\n",
      "   7.09034130e-03 -3.64213553e-04  7.53268541e-03  3.04581218e-04\n",
      "   1.18255108e-02  7.38807089e-03  9.26477103e-03 -5.69219017e-03\n",
      "   6.40654624e-03 -8.79728795e-03  1.21062956e-02 -1.16778709e-02]]\n",
      "b2 = [[0.]]\n"
     ]
    }
   ],
   "source": [
    "parameters = initialize_parameters([56,100,1])\n",
    "\n",
    "print(\"W1 = \" + str(parameters[\"W1\"]))\n",
    "print(\"b1 = \" + str(parameters[\"b1\"]))\n",
    "print(\"W2 = \" + str(parameters[\"W2\"]))\n",
    "print(\"b2 = \" + str(parameters[\"b2\"]))\n"
   ]
  },
  {
   "cell_type": "code",
   "execution_count": 714,
   "metadata": {},
   "outputs": [],
   "source": [
    "def linear_forward(A, W, b):\n",
    "    \n",
    "    Z = np.dot(W, A) + b\n",
    "  \n",
    "    assert(Z.shape == (W.shape[0], A.shape[1]))\n",
    "    cache = (A, W, b)\n",
    "    \n",
    "    return Z, cache"
   ]
  },
  {
   "cell_type": "code",
   "execution_count": 715,
   "metadata": {},
   "outputs": [
    {
     "data": {
      "text/plain": [
       "array([[-0.05714644, -0.00266152,  0.00646522, ..., -0.01518216,\n",
       "        -0.01292219, -0.00513865],\n",
       "       [ 0.02983454,  0.0421782 ,  0.00559264, ...,  0.00590659,\n",
       "         0.00772138,  0.00925475],\n",
       "       [-0.01944083, -0.00708959,  0.01523736, ...,  0.00278694,\n",
       "         0.01075801,  0.0023635 ],\n",
       "       ...,\n",
       "       [-0.004442  ,  0.01014019, -0.01965101, ..., -0.02005649,\n",
       "        -0.00842171,  0.01052474],\n",
       "       [ 0.01961826, -0.01523064, -0.00797685, ..., -0.00803453,\n",
       "        -0.01174948,  0.0278899 ],\n",
       "       [ 0.01624779,  0.03448916,  0.02464467, ...,  0.02016085,\n",
       "        -0.00414717, -0.00194617]])"
      ]
     },
     "execution_count": 715,
     "metadata": {},
     "output_type": "execute_result"
    }
   ],
   "source": [
    "#test\n",
    "\n",
    "Z, cache = linear_forward(X_train.T, parameters[\"W1\"], parameters[\"b1\"])\n",
    "Z"
   ]
  },
  {
   "cell_type": "code",
   "execution_count": 716,
   "metadata": {},
   "outputs": [],
   "source": [
    "def sigmoid(Z):\n",
    "    \n",
    "    A = 1 / (1 + np.exp(- Z))\n",
    "    \n",
    "    return A, Z"
   ]
  },
  {
   "cell_type": "code",
   "execution_count": 717,
   "metadata": {},
   "outputs": [],
   "source": [
    "def relu(Z):\n",
    "    \n",
    "    a = Z * (Z >= 0)\n",
    "    \n",
    "    return a, Z"
   ]
  },
  {
   "cell_type": "code",
   "execution_count": 718,
   "metadata": {},
   "outputs": [],
   "source": [
    "def linear_activation_forward(A_prev, W, b, activation):\n",
    "   \n",
    "    if activation == \"sigmoid\":\n",
    "        # Inputs: \"A_prev, W, b\". Outputs: \"A, activation_cache\".\n",
    "        \n",
    "        Z, linear_cache = linear_forward(A_prev, W, b)\n",
    "        A, activation_cache = sigmoid(Z)\n",
    "       \n",
    "    \n",
    "    elif activation == \"relu\":\n",
    "        # Inputs: \"A_prev, W, b\". Outputs: \"A, activation_cache\".\n",
    "        \n",
    "        Z, linear_cache = linear_forward(A_prev, W, b)\n",
    "        A, activation_cache = relu(Z)\n",
    "       \n",
    "    \n",
    "    assert (A.shape == (W.shape[0], A_prev.shape[1]))\n",
    "    cache = (linear_cache, activation_cache)\n",
    "    \n",
    "\n",
    "    return A, cache"
   ]
  },
  {
   "cell_type": "code",
   "execution_count": 719,
   "metadata": {},
   "outputs": [
    {
     "data": {
      "text/plain": [
       "(100, 28800)"
      ]
     },
     "execution_count": 719,
     "metadata": {},
     "output_type": "execute_result"
    }
   ],
   "source": [
    "#test\n",
    "\n",
    "A, cache = linear_activation_forward(X_train.T, parameters[\"W1\"], parameters[\"b1\"], activation= \"relu\")\n",
    "A.shape"
   ]
  },
  {
   "cell_type": "code",
   "execution_count": 720,
   "metadata": {},
   "outputs": [],
   "source": [
    "def L_model_forward(X, parameters):\n",
    "   \n",
    "\n",
    "    caches = []\n",
    "    A = X\n",
    "    L = len(parameters) // 2                  # number of layers in the neural network\n",
    "    \n",
    "    # Implementing [LINEAR -> RELU]*(L-1). Adding \"cache\" to the \"caches\" list.\n",
    "    for l in range(1, L):\n",
    "        A_prev = A \n",
    "        \n",
    "        A, cache = linear_activation_forward(A_prev, parameters[\"W\" + str(l)], parameters[\"b\" + str(l)], activation= \"relu\")\n",
    "        caches.append(cache)\n",
    "    \n",
    "    #print(A.min())\n",
    "        \n",
    "    \n",
    "    # Implementing LINEAR -> RELU. Adding \"cache\" to the \"caches\" list.\n",
    "    \n",
    "    AL, cache = linear_activation_forward(A, parameters[\"W\" + str(L)], parameters[\"b\" + str(L)], activation= \"relu\")\n",
    "    #AL, cache = linear_forward(A, parameters[\"W\" + str(L)], parameters[\"b\" + str(L)])\n",
    "    caches.append(cache)\n",
    "   \n",
    "    \n",
    "    assert(AL.shape == (1,X.shape[1]))\n",
    "    #print (AL)\n",
    "            \n",
    "    return AL, caches"
   ]
  },
  {
   "cell_type": "code",
   "execution_count": 721,
   "metadata": {},
   "outputs": [],
   "source": [
    "#test\n",
    "\n",
    "AL, cache = L_model_forward(X_train.T, parameters)"
   ]
  },
  {
   "cell_type": "code",
   "execution_count": 722,
   "metadata": {},
   "outputs": [
    {
     "data": {
      "text/plain": [
       "-0.0"
      ]
     },
     "execution_count": 722,
     "metadata": {},
     "output_type": "execute_result"
    }
   ],
   "source": [
    "AL.min()"
   ]
  },
  {
   "cell_type": "code",
   "execution_count": 723,
   "metadata": {},
   "outputs": [],
   "source": [
    "def compute_cost(AL, Y, cache, layers_dims, lambd):\n",
    "    \n",
    "    m = Y.shape[1]\n",
    "    \n",
    "    cost = - (np.sum(np.square(Y - AL))) / (2 * m)\n",
    "    \n",
    "    assert(cost.shape == ())\n",
    "    \n",
    "    return cost"
   ]
  },
  {
   "cell_type": "code",
   "execution_count": 724,
   "metadata": {},
   "outputs": [],
   "source": [
    "def L2_regularization_cost(cache, y, layers_dims, lambd):\n",
    "    \n",
    "    total = 0\n",
    "    for i in range(0,len(layers_dims) - 1):\n",
    "        total = total + np.sum(np.square(cache[i][1]))\n",
    "        \n",
    "    L2_cost = total * lambd / (2 * y.shape[1])\n",
    "    \n",
    "    return L2_cost"
   ]
  },
  {
   "cell_type": "code",
   "execution_count": 725,
   "metadata": {},
   "outputs": [
    {
     "data": {
      "text/plain": [
       "()"
      ]
     },
     "execution_count": 725,
     "metadata": {},
     "output_type": "execute_result"
    }
   ],
   "source": [
    "L2 = L2_regularization_cost(cache, y_train.T, layers_dims= [57, 10, 1], lambd= 0.7)\n",
    "L2.shape"
   ]
  },
  {
   "cell_type": "code",
   "execution_count": 726,
   "metadata": {},
   "outputs": [
    {
     "data": {
      "text/plain": [
       "()"
      ]
     },
     "execution_count": 726,
     "metadata": {},
     "output_type": "execute_result"
    }
   ],
   "source": [
    "#test\n",
    "\n",
    "C = compute_cost(AL, y_train.T, cache, [57, 10, 1], lambd = 0.7)\n",
    "C.shape"
   ]
  },
  {
   "cell_type": "markdown",
   "metadata": {},
   "source": [
    "#test\n",
    "\n",
    "C = compute_cost(AL, y_train.T)\n",
    "C\n"
   ]
  },
  {
   "cell_type": "code",
   "execution_count": 727,
   "metadata": {},
   "outputs": [
    {
     "data": {
      "text/plain": [
       "()"
      ]
     },
     "execution_count": 727,
     "metadata": {},
     "output_type": "execute_result"
    }
   ],
   "source": [
    "C.shape"
   ]
  },
  {
   "cell_type": "code",
   "execution_count": 728,
   "metadata": {},
   "outputs": [],
   "source": [
    "def linear_backward(lambd, dZ, cache):\n",
    "    \n",
    "    A_prev, W, b = cache\n",
    "    m = A_prev.shape[1]\n",
    "\n",
    "    dW = (np.dot(dZ, A_prev.T)) / m + W * lambd / m\n",
    "    db = (np.sum(dZ, axis=1).reshape(b.shape)) / m\n",
    "    dA_prev = np.dot(W.T, dZ)\n",
    "    \n",
    "    assert (dA_prev.shape == A_prev.shape)\n",
    "    assert (dW.shape == W.shape)\n",
    "    assert (db.shape == b.shape)\n",
    "    \n",
    "    return dA_prev, dW, db"
   ]
  },
  {
   "cell_type": "markdown",
   "metadata": {},
   "source": [
    "### test"
   ]
  },
  {
   "cell_type": "code",
   "execution_count": 729,
   "metadata": {},
   "outputs": [],
   "source": [
    "def sigmoid_back(dA, activation_cache):\n",
    "    m,q=sigmoid(activation_cache) #m stores the sigmoid return values , q stores the buffer returned\n",
    "    n=1-m\n",
    "    \n",
    "    dZ = dA*m*n\n",
    "    \n",
    "    return dZ"
   ]
  },
  {
   "cell_type": "markdown",
   "metadata": {},
   "source": [
    "sigmoid_back(np.array(([3,4,5],[8,9,0])),np.array(([1,2,3],[4,4,4])))"
   ]
  },
  {
   "cell_type": "code",
   "execution_count": 730,
   "metadata": {},
   "outputs": [],
   "source": [
    "def relu_back(dA, activation_cache):\n",
    "    \n",
    "    a =  1 * (activation_cache >= 0 )\n",
    "    \n",
    "    dZ = dA * a\n",
    "    \n",
    "    return dZ"
   ]
  },
  {
   "cell_type": "code",
   "execution_count": 731,
   "metadata": {},
   "outputs": [],
   "source": [
    "def linear_activation_backward(lambd, dA, cache, activation):\n",
    "    \n",
    "    linear_cache, activation_cache = cache\n",
    "    \n",
    "    if activation == \"relu\":\n",
    "       \n",
    "        dZ = relu_back(dA, activation_cache)\n",
    "        dA_prev, dW, db = linear_backward(lambd, dZ, linear_cache)\n",
    "       \n",
    "        \n",
    "    elif activation == \"sigmoid\":\n",
    "        \n",
    "        dZ = sigmoid_back(dA, activation_cache)\n",
    "        dA_prev, dW, db = linear_backward(lambd, dZ, linear_cache)\n",
    "        \n",
    "    \n",
    "    return dA_prev, dW, db"
   ]
  },
  {
   "cell_type": "code",
   "execution_count": 732,
   "metadata": {},
   "outputs": [],
   "source": [
    "#test"
   ]
  },
  {
   "cell_type": "code",
   "execution_count": 733,
   "metadata": {},
   "outputs": [],
   "source": [
    "def L_model_backward(AL, Y, caches, lambd):\n",
    "   \n",
    "    grads = {}\n",
    "    L = len(caches) # the number of layers\n",
    "    m = AL.shape[1]\n",
    "    Y = Y.reshape(AL.shape) # after this line, Y is the same shape as AL\n",
    "    \n",
    "    # Initializing the backpropagation\n",
    "    dAL = Y - AL\n",
    "   \n",
    "    \n",
    "    # Lth layer (SIGMOID -> LINEAR) gradients. Inputs: \"dAL, current_cache\". Outputs: \"grads[\"dAL-1\"], grads[\"dWL\"], grads[\"dbL\"]\n",
    "    current_cache = caches[L-1]\n",
    "    grads[\"dA\" + str(L-1)], grads[\"dW\" + str(L)], grads[\"db\" + str(L)] = linear_activation_backward(lambd, dAL, caches[L-1], activation= \"relu\")\n",
    "    \n",
    "    \n",
    "    # Loop from l=L-2 to l=0\n",
    "    for l in reversed(range(L-1)):\n",
    "        # lth layer: (RELU -> LINEAR) gradients.\n",
    "        # Inputs: \"grads[\"dA\" + str(l + 1)], current_cache\". Outputs: \"grads[\"dA\" + str(l)] , grads[\"dW\" + str(l + 1)] , grads[\"db\" + str(l + 1)] \n",
    "        \n",
    "        current_cache = caches[l]\n",
    "        dA_prev_temp, dW_temp, db_temp = linear_activation_backward(lambd, grads[\"dA\" + str(l+1)], caches[l], activation= \"relu\")\n",
    "        grads[\"dA\" + str(l)] = dA_prev_temp\n",
    "        grads[\"dW\" + str(l + 1)] = dW_temp\n",
    "        grads[\"db\" + str(l + 1)] =  db_temp\n",
    "        \n",
    "\n",
    "    return grads"
   ]
  },
  {
   "cell_type": "code",
   "execution_count": 734,
   "metadata": {},
   "outputs": [],
   "source": [
    "#test"
   ]
  },
  {
   "cell_type": "code",
   "execution_count": 735,
   "metadata": {},
   "outputs": [],
   "source": [
    "def update_parameters(parameters, grads, learning_rate):\n",
    "    \n",
    "    \n",
    "    L = len(parameters) // 2 # number of layers in the neural network\n",
    "\n",
    "    # Update rule for each parameter.\n",
    "    for l in range(L):\n",
    "        parameters[\"W\" + str(l+1)] = parameters[\"W\" + str(l+1)] - learning_rate * grads[\"dW\" + str(l+1)]\n",
    "        parameters[\"b\" + str(l+1)] = parameters[\"b\" + str(l+1)] - learning_rate * grads[\"db\" + str(l+1)]\n",
    "   \n",
    "    return parameters"
   ]
  },
  {
   "cell_type": "code",
   "execution_count": 736,
   "metadata": {},
   "outputs": [],
   "source": [
    "#test"
   ]
  },
  {
   "cell_type": "code",
   "execution_count": 737,
   "metadata": {},
   "outputs": [],
   "source": [
    "def L_layer_model(X, Y, layers_dims, lambd, a0, decay_rate, num_iterations , print_cost=True):\n",
    "   \n",
    "    np.random.seed(1)\n",
    "    costs = []                         # keep track of cost\n",
    "    \n",
    "    # Parameters initialization. \n",
    "    parameters = initialize_parameters(layers_dims)\n",
    "    \n",
    "    \n",
    "    # Loop (gradient descent)\n",
    "    for i in range(0, num_iterations):\n",
    "        \n",
    "        learning_rate = a0 / (1 + decay_rate * i)\n",
    "\n",
    "        # Forward propagation: \n",
    "        AL, caches = L_model_forward(X, parameters)\n",
    "       \n",
    "        # Compute cost.\n",
    "        cost = compute_cost(AL, Y, caches, layers_dims, lambd)\n",
    "        \n",
    "        # Backward propagation.\n",
    "        grads = L_model_backward(AL, Y, caches, lambd)\n",
    "        \n",
    "        # Update parameters.\n",
    "        parameters = update_parameters(parameters, grads, learning_rate)\n",
    "        \n",
    "                \n",
    "        # Print the cost every 100 training example\n",
    "        if print_cost and i % 100 == 0:\n",
    "            print (\"Cost after iteration %i: %f\" %(i, cost))\n",
    "        if print_cost and i % 100 == 0:\n",
    "            costs.append(cost)\n",
    "            \n",
    "   \n",
    "    \n",
    "    return parameters"
   ]
  },
  {
   "cell_type": "markdown",
   "metadata": {},
   "source": [
    "# TRAIN STARTS FROM HERE ..... MODEL FUNTIONS DONE"
   ]
  },
  {
   "cell_type": "code",
   "execution_count": 738,
   "metadata": {},
   "outputs": [
    {
     "name": "stdout",
     "output_type": "stream",
     "text": [
      "Cost after iteration 0: -0.004979\n",
      "Cost after iteration 100: -0.004983\n",
      "Cost after iteration 200: -0.004983\n",
      "Cost after iteration 300: -0.004983\n",
      "Cost after iteration 400: -0.004983\n"
     ]
    }
   ],
   "source": [
    "#test\n",
    "\n",
    "\n",
    "#Y, b = sigmoid(np.array(Y))\n",
    "\n",
    "layers_dims = [56,500, 10, 1]\n",
    "\n",
    "new_para = L_layer_model(X_train.T,y_train.T,layers_dims, lambd = 0.9, a0 = 0.1, decay_rate = 1, num_iterations = 500, print_cost=True)"
   ]
  },
  {
   "cell_type": "code",
   "execution_count": 291,
   "metadata": {},
   "outputs": [],
   "source": [
    "df = pd.read_excel(\"2017_weather_partial.xlsx\")"
   ]
  },
  {
   "cell_type": "code",
   "execution_count": 297,
   "metadata": {},
   "outputs": [
    {
     "data": {
      "text/html": [
       "<div>\n",
       "<style scoped>\n",
       "    .dataframe tbody tr th:only-of-type {\n",
       "        vertical-align: middle;\n",
       "    }\n",
       "\n",
       "    .dataframe tbody tr th {\n",
       "        vertical-align: top;\n",
       "    }\n",
       "\n",
       "    .dataframe thead th {\n",
       "        text-align: right;\n",
       "    }\n",
       "</style>\n",
       "<table border=\"1\" class=\"dataframe\">\n",
       "  <thead>\n",
       "    <tr style=\"text-align: right;\">\n",
       "      <th></th>\n",
       "      <th>Cloud_Cover</th>\n",
       "      <th>Temperature(C)</th>\n",
       "      <th>ApparentTemperature(C)</th>\n",
       "      <th>Humidity</th>\n",
       "      <th>WindSpeed(m/s)</th>\n",
       "      <th>HolidayBool</th>\n",
       "      <th>Year2015</th>\n",
       "      <th>Year2016</th>\n",
       "      <th>Year2017</th>\n",
       "      <th>Year2018</th>\n",
       "      <th>...</th>\n",
       "      <th>Month 10</th>\n",
       "      <th>Month 11</th>\n",
       "      <th>Month 12</th>\n",
       "      <th>Day 1</th>\n",
       "      <th>Day 2</th>\n",
       "      <th>Day 3</th>\n",
       "      <th>Day 4</th>\n",
       "      <th>Day 5</th>\n",
       "      <th>Day 6</th>\n",
       "      <th>Day 7</th>\n",
       "    </tr>\n",
       "  </thead>\n",
       "  <tbody>\n",
       "    <tr>\n",
       "      <th>0</th>\n",
       "      <td>0.98</td>\n",
       "      <td>-2.79</td>\n",
       "      <td>-6.25</td>\n",
       "      <td>0.96</td>\n",
       "      <td>2.43</td>\n",
       "      <td>1</td>\n",
       "      <td>0</td>\n",
       "      <td>0</td>\n",
       "      <td>1</td>\n",
       "      <td>0</td>\n",
       "      <td>...</td>\n",
       "      <td>0</td>\n",
       "      <td>0</td>\n",
       "      <td>0</td>\n",
       "      <td>0</td>\n",
       "      <td>0</td>\n",
       "      <td>0</td>\n",
       "      <td>0</td>\n",
       "      <td>0</td>\n",
       "      <td>0</td>\n",
       "      <td>1</td>\n",
       "    </tr>\n",
       "    <tr>\n",
       "      <th>1</th>\n",
       "      <td>0.98</td>\n",
       "      <td>-2.79</td>\n",
       "      <td>-6.25</td>\n",
       "      <td>0.96</td>\n",
       "      <td>2.43</td>\n",
       "      <td>1</td>\n",
       "      <td>0</td>\n",
       "      <td>0</td>\n",
       "      <td>1</td>\n",
       "      <td>0</td>\n",
       "      <td>...</td>\n",
       "      <td>0</td>\n",
       "      <td>0</td>\n",
       "      <td>0</td>\n",
       "      <td>0</td>\n",
       "      <td>0</td>\n",
       "      <td>0</td>\n",
       "      <td>0</td>\n",
       "      <td>0</td>\n",
       "      <td>0</td>\n",
       "      <td>1</td>\n",
       "    </tr>\n",
       "    <tr>\n",
       "      <th>2</th>\n",
       "      <td>0.98</td>\n",
       "      <td>-2.79</td>\n",
       "      <td>-6.25</td>\n",
       "      <td>0.96</td>\n",
       "      <td>2.43</td>\n",
       "      <td>1</td>\n",
       "      <td>0</td>\n",
       "      <td>0</td>\n",
       "      <td>1</td>\n",
       "      <td>0</td>\n",
       "      <td>...</td>\n",
       "      <td>0</td>\n",
       "      <td>0</td>\n",
       "      <td>0</td>\n",
       "      <td>0</td>\n",
       "      <td>0</td>\n",
       "      <td>0</td>\n",
       "      <td>0</td>\n",
       "      <td>0</td>\n",
       "      <td>0</td>\n",
       "      <td>1</td>\n",
       "    </tr>\n",
       "    <tr>\n",
       "      <th>3</th>\n",
       "      <td>0.98</td>\n",
       "      <td>-2.79</td>\n",
       "      <td>-6.25</td>\n",
       "      <td>0.96</td>\n",
       "      <td>2.43</td>\n",
       "      <td>1</td>\n",
       "      <td>0</td>\n",
       "      <td>0</td>\n",
       "      <td>1</td>\n",
       "      <td>0</td>\n",
       "      <td>...</td>\n",
       "      <td>0</td>\n",
       "      <td>0</td>\n",
       "      <td>0</td>\n",
       "      <td>0</td>\n",
       "      <td>0</td>\n",
       "      <td>0</td>\n",
       "      <td>0</td>\n",
       "      <td>0</td>\n",
       "      <td>0</td>\n",
       "      <td>1</td>\n",
       "    </tr>\n",
       "    <tr>\n",
       "      <th>4</th>\n",
       "      <td>0.98</td>\n",
       "      <td>-3.23</td>\n",
       "      <td>-6.74</td>\n",
       "      <td>0.98</td>\n",
       "      <td>2.41</td>\n",
       "      <td>1</td>\n",
       "      <td>0</td>\n",
       "      <td>0</td>\n",
       "      <td>1</td>\n",
       "      <td>0</td>\n",
       "      <td>...</td>\n",
       "      <td>0</td>\n",
       "      <td>0</td>\n",
       "      <td>0</td>\n",
       "      <td>0</td>\n",
       "      <td>0</td>\n",
       "      <td>0</td>\n",
       "      <td>0</td>\n",
       "      <td>0</td>\n",
       "      <td>0</td>\n",
       "      <td>1</td>\n",
       "    </tr>\n",
       "  </tbody>\n",
       "</table>\n",
       "<p>5 rows × 57 columns</p>\n",
       "</div>"
      ],
      "text/plain": [
       "   Cloud_Cover  Temperature(C)  ApparentTemperature(C)  Humidity  \\\n",
       "0         0.98           -2.79                   -6.25      0.96   \n",
       "1         0.98           -2.79                   -6.25      0.96   \n",
       "2         0.98           -2.79                   -6.25      0.96   \n",
       "3         0.98           -2.79                   -6.25      0.96   \n",
       "4         0.98           -3.23                   -6.74      0.98   \n",
       "\n",
       "   WindSpeed(m/s)  HolidayBool  Year2015  Year2016  Year2017  Year2018  ...    \\\n",
       "0            2.43            1         0         0         1         0  ...     \n",
       "1            2.43            1         0         0         1         0  ...     \n",
       "2            2.43            1         0         0         1         0  ...     \n",
       "3            2.43            1         0         0         1         0  ...     \n",
       "4            2.41            1         0         0         1         0  ...     \n",
       "\n",
       "   Month 10  Month 11  Month 12  Day 1  Day 2  Day 3  Day 4  Day 5  Day 6  \\\n",
       "0         0         0         0      0      0      0      0      0      0   \n",
       "1         0         0         0      0      0      0      0      0      0   \n",
       "2         0         0         0      0      0      0      0      0      0   \n",
       "3         0         0         0      0      0      0      0      0      0   \n",
       "4         0         0         0      0      0      0      0      0      0   \n",
       "\n",
       "   Day 7  \n",
       "0      1  \n",
       "1      1  \n",
       "2      1  \n",
       "3      1  \n",
       "4      1  \n",
       "\n",
       "[5 rows x 57 columns]"
      ]
     },
     "execution_count": 297,
     "metadata": {},
     "output_type": "execute_result"
    }
   ],
   "source": [
    "df.head()"
   ]
  },
  {
   "cell_type": "markdown",
   "metadata": {},
   "source": [
    "df.drop('Day', axis = 1, inplace =True)\n",
    "df.drop('Year', axis = 1, inplace =True)\n",
    "df.drop('Month', axis = 1, inplace =True)\n",
    "df.drop('Time', axis = 1, inplace =True)"
   ]
  },
  {
   "cell_type": "code",
   "execution_count": 298,
   "metadata": {},
   "outputs": [],
   "source": [
    "ser1=pd.Series(np.random.rand(35040))\n",
    "ser2=pd.Series(np.random.rand(35040))\n",
    "ser3=pd.Series(np.random.rand(35040))\n",
    "ser4=pd.Series(np.random.rand(35040))\n",
    "ser5=pd.Series(np.random.rand(35040))\n",
    "\n",
    "m = np.zeros((5,2))\n",
    "m[0][0] = df['Cloud_Cover'].mean()\n",
    "m[0][1] = df['Cloud_Cover'].var()\n",
    "m[1][0] = df['Temperature(C)'].mean()\n",
    "m[1][1] = df['Temperature(C)'].var()\n",
    "m[2][0] = df['ApparentTemperature(C)'].mean()\n",
    "m[2][1] = df['ApparentTemperature(C)'].var()\n",
    "m[3][0] = df['Humidity'].mean()\n",
    "m[3][1] = df['Humidity'].var()\n",
    "m[4][0] = df['WindSpeed(m/s)'].mean()\n",
    "m[4][1] = df['WindSpeed(m/s)'].var()"
   ]
  },
  {
   "cell_type": "code",
   "execution_count": 299,
   "metadata": {},
   "outputs": [],
   "source": [
    "for i in range (35040):\n",
    "    ser1[i]= ((df.iloc[i][0] - m[0][0]) / m[0][1]) \n",
    "    ser2[i]= ((df.iloc[i][1] - m[1][0]) / m[1][1]) \n",
    "    ser3[i]= ((df.iloc[i][2] - m[2][0]) / m[2][1]) \n",
    "    ser4[i]= ((df.iloc[i][3] - m[3][0]) / m[3][1]) \n",
    "    ser5[i]= ((df.iloc[i][4] - m[4][0]) / m[4][1]) "
   ]
  },
  {
   "cell_type": "code",
   "execution_count": null,
   "metadata": {},
   "outputs": [],
   "source": [
    "n = []\n",
    "n.append(ser1.max())\n",
    "n.append(ser2.max())\n",
    "n.append(ser3.max())\n",
    "n.append(ser4.max())\n",
    "n.append(ser5.max())\n",
    "\n",
    "n"
   ]
  },
  {
   "cell_type": "markdown",
   "metadata": {},
   "source": [
    "df['Cloud_Cover'] = ser1 / n[0]\n",
    "df['Temperature(C)'] = ser2 / n[1]\n",
    "df['ApparentTemperature(C)'] = ser3 / n[2]\n",
    "df['Humidity'] = ser4 / n[3]\n",
    "df['WindSpeed(m/s)'] = ser5 / n[4]"
   ]
  },
  {
   "cell_type": "markdown",
   "metadata": {},
   "source": [
    "df['Cloud_Cover'] = ser1 / n[0]\n",
    "\n",
    "df['ApparentTemperature(C)'] = ser3 / n[2]\n",
    "df['Humidity'] = ser4 / n[3]\n",
    "df['WindSpeed(m/s)'] = ser5 / n[4]"
   ]
  },
  {
   "cell_type": "code",
   "execution_count": 431,
   "metadata": {},
   "outputs": [
    {
     "data": {
      "text/html": [
       "<div>\n",
       "<style scoped>\n",
       "    .dataframe tbody tr th:only-of-type {\n",
       "        vertical-align: middle;\n",
       "    }\n",
       "\n",
       "    .dataframe tbody tr th {\n",
       "        vertical-align: top;\n",
       "    }\n",
       "\n",
       "    .dataframe thead th {\n",
       "        text-align: right;\n",
       "    }\n",
       "</style>\n",
       "<table border=\"1\" class=\"dataframe\">\n",
       "  <thead>\n",
       "    <tr style=\"text-align: right;\">\n",
       "      <th></th>\n",
       "      <th>Cloud_Cover</th>\n",
       "      <th>ApparentTemperature(C)</th>\n",
       "      <th>Humidity</th>\n",
       "      <th>WindSpeed(m/s)</th>\n",
       "      <th>HolidayBool</th>\n",
       "      <th>Year2015</th>\n",
       "      <th>Year2016</th>\n",
       "      <th>Year2017</th>\n",
       "      <th>Year2018</th>\n",
       "      <th>Tmin00-15</th>\n",
       "      <th>...</th>\n",
       "      <th>Month 11</th>\n",
       "      <th>Month 12</th>\n",
       "      <th>Day 1</th>\n",
       "      <th>Day 2</th>\n",
       "      <th>Day 3</th>\n",
       "      <th>Day 4</th>\n",
       "      <th>Day 5</th>\n",
       "      <th>Day 6</th>\n",
       "      <th>Day 7</th>\n",
       "      <th>Temperature(C)</th>\n",
       "    </tr>\n",
       "  </thead>\n",
       "  <tbody>\n",
       "    <tr>\n",
       "      <th>0</th>\n",
       "      <td>0.950685</td>\n",
       "      <td>-0.699850</td>\n",
       "      <td>0.841327</td>\n",
       "      <td>0.022750</td>\n",
       "      <td>1</td>\n",
       "      <td>0</td>\n",
       "      <td>0</td>\n",
       "      <td>1</td>\n",
       "      <td>0</td>\n",
       "      <td>1</td>\n",
       "      <td>...</td>\n",
       "      <td>0</td>\n",
       "      <td>0</td>\n",
       "      <td>0</td>\n",
       "      <td>0</td>\n",
       "      <td>0</td>\n",
       "      <td>0</td>\n",
       "      <td>0</td>\n",
       "      <td>0</td>\n",
       "      <td>1</td>\n",
       "      <td>-0.637265</td>\n",
       "    </tr>\n",
       "    <tr>\n",
       "      <th>1</th>\n",
       "      <td>0.950685</td>\n",
       "      <td>-0.699850</td>\n",
       "      <td>0.841327</td>\n",
       "      <td>0.022750</td>\n",
       "      <td>1</td>\n",
       "      <td>0</td>\n",
       "      <td>0</td>\n",
       "      <td>1</td>\n",
       "      <td>0</td>\n",
       "      <td>0</td>\n",
       "      <td>...</td>\n",
       "      <td>0</td>\n",
       "      <td>0</td>\n",
       "      <td>0</td>\n",
       "      <td>0</td>\n",
       "      <td>0</td>\n",
       "      <td>0</td>\n",
       "      <td>0</td>\n",
       "      <td>0</td>\n",
       "      <td>1</td>\n",
       "      <td>-0.637265</td>\n",
       "    </tr>\n",
       "    <tr>\n",
       "      <th>2</th>\n",
       "      <td>0.950685</td>\n",
       "      <td>-0.699850</td>\n",
       "      <td>0.841327</td>\n",
       "      <td>0.022750</td>\n",
       "      <td>1</td>\n",
       "      <td>0</td>\n",
       "      <td>0</td>\n",
       "      <td>1</td>\n",
       "      <td>0</td>\n",
       "      <td>0</td>\n",
       "      <td>...</td>\n",
       "      <td>0</td>\n",
       "      <td>0</td>\n",
       "      <td>0</td>\n",
       "      <td>0</td>\n",
       "      <td>0</td>\n",
       "      <td>0</td>\n",
       "      <td>0</td>\n",
       "      <td>0</td>\n",
       "      <td>1</td>\n",
       "      <td>-0.637265</td>\n",
       "    </tr>\n",
       "    <tr>\n",
       "      <th>3</th>\n",
       "      <td>0.950685</td>\n",
       "      <td>-0.699850</td>\n",
       "      <td>0.841327</td>\n",
       "      <td>0.022750</td>\n",
       "      <td>1</td>\n",
       "      <td>0</td>\n",
       "      <td>0</td>\n",
       "      <td>1</td>\n",
       "      <td>0</td>\n",
       "      <td>0</td>\n",
       "      <td>...</td>\n",
       "      <td>0</td>\n",
       "      <td>0</td>\n",
       "      <td>0</td>\n",
       "      <td>0</td>\n",
       "      <td>0</td>\n",
       "      <td>0</td>\n",
       "      <td>0</td>\n",
       "      <td>0</td>\n",
       "      <td>1</td>\n",
       "      <td>-0.637265</td>\n",
       "    </tr>\n",
       "    <tr>\n",
       "      <th>4</th>\n",
       "      <td>0.950685</td>\n",
       "      <td>-0.720569</td>\n",
       "      <td>0.947109</td>\n",
       "      <td>0.020298</td>\n",
       "      <td>1</td>\n",
       "      <td>0</td>\n",
       "      <td>0</td>\n",
       "      <td>1</td>\n",
       "      <td>0</td>\n",
       "      <td>1</td>\n",
       "      <td>...</td>\n",
       "      <td>0</td>\n",
       "      <td>0</td>\n",
       "      <td>0</td>\n",
       "      <td>0</td>\n",
       "      <td>0</td>\n",
       "      <td>0</td>\n",
       "      <td>0</td>\n",
       "      <td>0</td>\n",
       "      <td>1</td>\n",
       "      <td>-0.657586</td>\n",
       "    </tr>\n",
       "  </tbody>\n",
       "</table>\n",
       "<p>5 rows × 57 columns</p>\n",
       "</div>"
      ],
      "text/plain": [
       "   Cloud_Cover  ApparentTemperature(C)  Humidity  WindSpeed(m/s)  HolidayBool  \\\n",
       "0     0.950685               -0.699850  0.841327        0.022750            1   \n",
       "1     0.950685               -0.699850  0.841327        0.022750            1   \n",
       "2     0.950685               -0.699850  0.841327        0.022750            1   \n",
       "3     0.950685               -0.699850  0.841327        0.022750            1   \n",
       "4     0.950685               -0.720569  0.947109        0.020298            1   \n",
       "\n",
       "   Year2015  Year2016  Year2017  Year2018  Tmin00-15       ...        \\\n",
       "0         0         0         1         0          1       ...         \n",
       "1         0         0         1         0          0       ...         \n",
       "2         0         0         1         0          0       ...         \n",
       "3         0         0         1         0          0       ...         \n",
       "4         0         0         1         0          1       ...         \n",
       "\n",
       "   Month 11  Month 12  Day 1  Day 2  Day 3  Day 4  Day 5  Day 6  Day 7  \\\n",
       "0         0         0      0      0      0      0      0      0      1   \n",
       "1         0         0      0      0      0      0      0      0      1   \n",
       "2         0         0      0      0      0      0      0      0      1   \n",
       "3         0         0      0      0      0      0      0      0      1   \n",
       "4         0         0      0      0      0      0      0      0      1   \n",
       "\n",
       "   Temperature(C)  \n",
       "0       -0.637265  \n",
       "1       -0.637265  \n",
       "2       -0.637265  \n",
       "3       -0.637265  \n",
       "4       -0.657586  \n",
       "\n",
       "[5 rows x 57 columns]"
      ]
     },
     "execution_count": 431,
     "metadata": {},
     "output_type": "execute_result"
    }
   ],
   "source": [
    "df.head()"
   ]
  },
  {
   "cell_type": "markdown",
   "metadata": {},
   "source": [
    "#np.mean(df['Cloud_Cover'])\n",
    "df.drop('Temperature(C)', axis = 1, inplace =True)\n",
    "df.head()"
   ]
  },
  {
   "cell_type": "markdown",
   "metadata": {},
   "source": [
    "df.drop(\"Time\", axis = 1, inplace = True)\n",
    "df.drop(\"Day\", axis = 1, inplace = True)\n",
    "df.drop(\"Year\", axis = 1, inplace = True)\n",
    "df.drop(\"Month\", axis = 1, inplace = True)"
   ]
  },
  {
   "cell_type": "code",
   "execution_count": 417,
   "metadata": {},
   "outputs": [
    {
     "name": "stdout",
     "output_type": "stream",
     "text": [
      "0\n",
      "1000\n",
      "2000\n",
      "3000\n",
      "4000\n",
      "5000\n",
      "6000\n",
      "7000\n",
      "8000\n",
      "9000\n",
      "10000\n",
      "11000\n",
      "12000\n",
      "13000\n",
      "14000\n",
      "15000\n",
      "16000\n",
      "17000\n",
      "18000\n",
      "19000\n",
      "20000\n",
      "21000\n",
      "22000\n",
      "23000\n",
      "24000\n",
      "25000\n",
      "26000\n",
      "27000\n",
      "28000\n",
      "29000\n",
      "30000\n",
      "31000\n"
     ]
    }
   ],
   "source": [
    "K = np.zeros((32000, 56))\n",
    "for i in range(0,32000):\n",
    "    for j in range(0, 56):\n",
    "        K[i][j]=df.iloc[i][j]\n",
    "    if i % 1000 == 0:\n",
    "        print(i)"
   ]
  },
  {
   "cell_type": "code",
   "execution_count": 453,
   "metadata": {},
   "outputs": [],
   "source": [
    "dfY = pd.read_excel(\"final2017LoadData.xlsx\")"
   ]
  },
  {
   "cell_type": "code",
   "execution_count": 690,
   "metadata": {},
   "outputs": [],
   "source": [
    "M = np.zeros((32000, 1))\n",
    "for i in range(0,32000):\n",
    "    M[i][0] = (dfY.iloc[i][2]/100000)"
   ]
  },
  {
   "cell_type": "code",
   "execution_count": 691,
   "metadata": {},
   "outputs": [],
   "source": [
    "X = np.array(K.T)\n",
    "Y = np.array(M.T)"
   ]
  },
  {
   "cell_type": "code",
   "execution_count": 692,
   "metadata": {},
   "outputs": [
    {
     "data": {
      "text/plain": [
       "0.0655"
      ]
     },
     "execution_count": 692,
     "metadata": {},
     "output_type": "execute_result"
    }
   ],
   "source": [
    "Y.min()"
   ]
  },
  {
   "cell_type": "markdown",
   "metadata": {},
   "source": [
    "# Train-Test Split"
   ]
  },
  {
   "cell_type": "code",
   "execution_count": 590,
   "metadata": {},
   "outputs": [],
   "source": [
    "from sklearn.model_selection import train_test_split"
   ]
  },
  {
   "cell_type": "code",
   "execution_count": 693,
   "metadata": {},
   "outputs": [],
   "source": [
    "#X should be m*n where m is number of examples and n is number of factors\n",
    "#Y should be m*1 where m is number of examples"
   ]
  },
  {
   "cell_type": "code",
   "execution_count": 698,
   "metadata": {
    "scrolled": true
   },
   "outputs": [],
   "source": [
    "X_train, X_test, y_train, y_test = train_test_split(X.T,Y.T, test_size=0.1)"
   ]
  },
  {
   "cell_type": "code",
   "execution_count": 699,
   "metadata": {},
   "outputs": [],
   "source": [
    "X_dev , X_test , y_dev , y_test = train_test_split(X_test,y_test,test_size=0.3)"
   ]
  },
  {
   "cell_type": "code",
   "execution_count": 700,
   "metadata": {},
   "outputs": [
    {
     "data": {
      "text/plain": [
       "(28800, 56)"
      ]
     },
     "execution_count": 700,
     "metadata": {},
     "output_type": "execute_result"
    }
   ],
   "source": [
    "X_train.shape"
   ]
  },
  {
   "cell_type": "code",
   "execution_count": 595,
   "metadata": {},
   "outputs": [],
   "source": [
    "#print(y_train.shape ,'Helllllo\\n\\n\\n', X_dev.shape ,'Helllllo\\n\\n\\n', X_test.shape)"
   ]
  },
  {
   "cell_type": "markdown",
   "metadata": {},
   "source": [
    "# Test Case\n",
    "\n",
    "K_test = np.zeros((1,60))\n",
    "\n",
    "for i in range(0, 60):\n",
    "    if i == 57:\n",
    "        K_test[0][i] = df.iloc[32002][i] / 10000000\n",
    "    elif i == 58:\n",
    "        K_test[0][i] = df.iloc[32002][i] / 10000\n",
    "    elif i == 59:\n",
    "        K_test[0][i] = df.iloc[32002][i] / 10000\n",
    "    else:\n",
    "        K_test[0][i] = df.iloc[32002][i]\n",
    "\n",
    "Y_test, b = sigmoid((dfY.iloc[32002][2]) / 10000)\n",
    "X_test = np.array(K_test.T)"
   ]
  },
  {
   "cell_type": "code",
   "execution_count": 745,
   "metadata": {},
   "outputs": [],
   "source": [
    "# Test\n",
    "\n",
    "Y_hat, extra = L_model_forward(X_test.T, new_para)\n",
    "\n",
    "Y_hat\n",
    "a = (abs(float(y_test[200][0]) - float(Y_hat.T[1][0])) * 100) / y_test[1][0]\n",
    "e=[]\n",
    "for i in range(960):\n",
    "    e.append((abs(float(y_test[i][0]) - float(Y_hat.T[i][0])) * 100) / y_test[i][0])\n",
    "\n",
    "#print(\"The error in your prediction is: \" + str(e) + \" %\")"
   ]
  },
  {
   "cell_type": "code",
   "execution_count": 747,
   "metadata": {},
   "outputs": [
    {
     "data": {
      "text/plain": [
       "array([[-0., -0., -0., -0., -0., -0., -0., -0., -0., -0., -0., -0., -0.,\n",
       "        -0., -0., -0., -0., -0., -0., -0., -0., -0., -0., -0., -0., -0.,\n",
       "        -0., -0., -0., -0., -0., -0., -0., -0., -0., -0., -0., -0., -0.,\n",
       "        -0., -0., -0., -0., -0., -0., -0., -0., -0., -0., -0., -0., -0.,\n",
       "        -0., -0., -0., -0., -0., -0., -0., -0., -0., -0., -0., -0., -0.,\n",
       "        -0., -0., -0., -0., -0., -0., -0., -0., -0., -0., -0., -0., -0.,\n",
       "        -0., -0., -0., -0., -0., -0., -0., -0., -0., -0., -0., -0., -0.,\n",
       "        -0., -0., -0., -0., -0., -0., -0., -0., -0., -0., -0., -0., -0.,\n",
       "        -0., -0., -0., -0., -0., -0., -0., -0., -0., -0., -0., -0., -0.,\n",
       "        -0., -0., -0., -0., -0., -0., -0., -0., -0., -0., -0., -0., -0.,\n",
       "        -0., -0., -0., -0., -0., -0., -0., -0., -0., -0., -0., -0., -0.,\n",
       "        -0., -0., -0., -0., -0., -0., -0., -0., -0., -0., -0., -0., -0.,\n",
       "        -0., -0., -0., -0., -0., -0., -0., -0., -0., -0., -0., -0., -0.,\n",
       "        -0., -0., -0., -0., -0., -0., -0., -0., -0., -0., -0., -0., -0.,\n",
       "        -0., -0., -0., -0., -0., -0., -0., -0., -0., -0., -0., -0., -0.,\n",
       "        -0., -0., -0., -0., -0., -0., -0., -0., -0., -0., -0., -0., -0.,\n",
       "        -0., -0., -0., -0., -0., -0., -0., -0., -0., -0., -0., -0., -0.,\n",
       "        -0., -0., -0., -0., -0., -0., -0., -0., -0., -0., -0., -0., -0.,\n",
       "        -0., -0., -0., -0., -0., -0., -0., -0., -0., -0., -0., -0., -0.,\n",
       "        -0., -0., -0., -0., -0., -0., -0., -0., -0., -0., -0., -0., -0.,\n",
       "        -0., -0., -0., -0., -0., -0., -0., -0., -0., -0., -0., -0., -0.,\n",
       "        -0., -0., -0., -0., -0., -0., -0., -0., -0., -0., -0., -0., -0.,\n",
       "        -0., -0., -0., -0., -0., -0., -0., -0., -0., -0., -0., -0., -0.,\n",
       "        -0., -0., -0., -0., -0., -0., -0., -0., -0., -0., -0., -0., -0.,\n",
       "        -0., -0., -0., -0., -0., -0., -0., -0., -0., -0., -0., -0., -0.,\n",
       "        -0., -0., -0., -0., -0., -0., -0., -0., -0., -0., -0., -0., -0.,\n",
       "        -0., -0., -0., -0., -0., -0., -0., -0., -0., -0., -0., -0., -0.,\n",
       "        -0., -0., -0., -0., -0., -0., -0., -0., -0., -0., -0., -0., -0.,\n",
       "        -0., -0., -0., -0., -0., -0., -0., -0., -0., -0., -0., -0., -0.,\n",
       "        -0., -0., -0., -0., -0., -0., -0., -0., -0., -0., -0., -0., -0.,\n",
       "        -0., -0., -0., -0., -0., -0., -0., -0., -0., -0., -0., -0., -0.,\n",
       "        -0., -0., -0., -0., -0., -0., -0., -0., -0., -0., -0., -0., -0.,\n",
       "        -0., -0., -0., -0., -0., -0., -0., -0., -0., -0., -0., -0., -0.,\n",
       "        -0., -0., -0., -0., -0., -0., -0., -0., -0., -0., -0., -0., -0.,\n",
       "        -0., -0., -0., -0., -0., -0., -0., -0., -0., -0., -0., -0., -0.,\n",
       "        -0., -0., -0., -0., -0., -0., -0., -0., -0., -0., -0., -0., -0.,\n",
       "        -0., -0., -0., -0., -0., -0., -0., -0., -0., -0., -0., -0., -0.,\n",
       "        -0., -0., -0., -0., -0., -0., -0., -0., -0., -0., -0., -0., -0.,\n",
       "        -0., -0., -0., -0., -0., -0., -0., -0., -0., -0., -0., -0., -0.,\n",
       "        -0., -0., -0., -0., -0., -0., -0., -0., -0., -0., -0., -0., -0.,\n",
       "        -0., -0., -0., -0., -0., -0., -0., -0., -0., -0., -0., -0., -0.,\n",
       "        -0., -0., -0., -0., -0., -0., -0., -0., -0., -0., -0., -0., -0.,\n",
       "        -0., -0., -0., -0., -0., -0., -0., -0., -0., -0., -0., -0., -0.,\n",
       "        -0., -0., -0., -0., -0., -0., -0., -0., -0., -0., -0., -0., -0.,\n",
       "        -0., -0., -0., -0., -0., -0., -0., -0., -0., -0., -0., -0., -0.,\n",
       "        -0., -0., -0., -0., -0., -0., -0., -0., -0., -0., -0., -0., -0.,\n",
       "        -0., -0., -0., -0., -0., -0., -0., -0., -0., -0., -0., -0., -0.,\n",
       "        -0., -0., -0., -0., -0., -0., -0., -0., -0., -0., -0., -0., -0.,\n",
       "        -0., -0., -0., -0., -0., -0., -0., -0., -0., -0., -0., -0., -0.,\n",
       "        -0., -0., -0., -0., -0., -0., -0., -0., -0., -0., -0., -0., -0.,\n",
       "        -0., -0., -0., -0., -0., -0., -0., -0., -0., -0., -0., -0., -0.,\n",
       "        -0., -0., -0., -0., -0., -0., -0., -0., -0., -0., -0., -0., -0.,\n",
       "        -0., -0., -0., -0., -0., -0., -0., -0., -0., -0., -0., -0., -0.,\n",
       "        -0., -0., -0., -0., -0., -0., -0., -0., -0., -0., -0., -0., -0.,\n",
       "        -0., -0., -0., -0., -0., -0., -0., -0., -0., -0., -0., -0., -0.,\n",
       "        -0., -0., -0., -0., -0., -0., -0., -0., -0., -0., -0., -0., -0.,\n",
       "        -0., -0., -0., -0., -0., -0., -0., -0., -0., -0., -0., -0., -0.,\n",
       "        -0., -0., -0., -0., -0., -0., -0., -0., -0., -0., -0., -0., -0.,\n",
       "        -0., -0., -0., -0., -0., -0., -0., -0., -0., -0., -0., -0., -0.,\n",
       "        -0., -0., -0., -0., -0., -0., -0., -0., -0., -0., -0., -0., -0.,\n",
       "        -0., -0., -0., -0., -0., -0., -0., -0., -0., -0., -0., -0., -0.,\n",
       "        -0., -0., -0., -0., -0., -0., -0., -0., -0., -0., -0., -0., -0.,\n",
       "        -0., -0., -0., -0., -0., -0., -0., -0., -0., -0., -0., -0., -0.,\n",
       "        -0., -0., -0., -0., -0., -0., -0., -0., -0., -0., -0., -0., -0.,\n",
       "        -0., -0., -0., -0., -0., -0., -0., -0., -0., -0., -0., -0., -0.,\n",
       "        -0., -0., -0., -0., -0., -0., -0., -0., -0., -0., -0., -0., -0.,\n",
       "        -0., -0., -0., -0., -0., -0., -0., -0., -0., -0., -0., -0., -0.,\n",
       "        -0., -0., -0., -0., -0., -0., -0., -0., -0., -0., -0., -0., -0.,\n",
       "        -0., -0., -0., -0., -0., -0., -0., -0., -0., -0., -0., -0., -0.,\n",
       "        -0., -0., -0., -0., -0., -0., -0., -0., -0., -0., -0., -0., -0.,\n",
       "        -0., -0., -0., -0., -0., -0., -0., -0., -0., -0., -0., -0., -0.,\n",
       "        -0., -0., -0., -0., -0., -0., -0., -0., -0., -0., -0., -0., -0.,\n",
       "        -0., -0., -0., -0., -0., -0., -0., -0., -0., -0., -0., -0., -0.,\n",
       "        -0., -0., -0., -0., -0., -0., -0., -0., -0., -0., -0.]])"
      ]
     },
     "execution_count": 747,
     "metadata": {},
     "output_type": "execute_result"
    }
   ],
   "source": [
    "Y_hat"
   ]
  },
  {
   "cell_type": "code",
   "execution_count": 744,
   "metadata": {},
   "outputs": [
    {
     "data": {
      "text/plain": [
       "100.0"
      ]
     },
     "execution_count": 744,
     "metadata": {},
     "output_type": "execute_result"
    }
   ],
   "source": [
    "sum(e)/len(e)"
   ]
  },
  {
   "cell_type": "code",
   "execution_count": 44,
   "metadata": {},
   "outputs": [
    {
     "name": "stdout",
     "output_type": "stream",
     "text": [
      "The error in your prediction is: -6.925861926336892 %\n"
     ]
    }
   ],
   "source": [
    "error=[]\n",
    "for i in range(960):\n",
    "    m = - np.log((1 / (float(Y_hat.T[i][0]))) - 1) * 10000\n",
    "    n = - np.log((1 / (float(y_test[i][0]))) - 1) * 10000\n",
    "    error.append((abs(float(m) - float(n)) * 100) / float(n))\n",
    "print(\"The error in your prediction is: \" + str(sum(error)/960) + \" %\")"
   ]
  },
  {
   "cell_type": "code",
   "execution_count": 95,
   "metadata": {},
   "outputs": [
    {
     "data": {
      "text/plain": [
       "(1, 28800)"
      ]
     },
     "execution_count": 95,
     "metadata": {},
     "output_type": "execute_result"
    }
   ],
   "source": [
    "y_train.T.shape"
   ]
  },
  {
   "cell_type": "code",
   "execution_count": 97,
   "metadata": {},
   "outputs": [
    {
     "data": {
      "text/plain": [
       "array([[0.73805813],\n",
       "       [0.72501983],\n",
       "       [0.74255675],\n",
       "       ...,\n",
       "       [0.74276698],\n",
       "       [0.71408348],\n",
       "       [0.75046616]])"
      ]
     },
     "execution_count": 97,
     "metadata": {},
     "output_type": "execute_result"
    }
   ],
   "source": [
    "y_train"
   ]
  },
  {
   "cell_type": "code",
   "execution_count": 103,
   "metadata": {},
   "outputs": [
    {
     "data": {
      "text/plain": [
       "array([[ 0.75,  0.43,  0.75, ...,  0.81,  0.57,  0.39],\n",
       "       [14.15, 22.62, 14.08, ...,  2.87, 19.04, 15.81],\n",
       "       [14.15, 22.62, 14.08, ...,  2.87, 19.04, 15.81],\n",
       "       ...,\n",
       "       [ 1.  ,  0.  ,  0.  , ...,  0.  ,  0.  ,  0.  ],\n",
       "       [ 0.  ,  0.  ,  0.  , ...,  1.  ,  0.  ,  0.  ],\n",
       "       [ 0.  ,  0.  ,  0.  , ...,  0.  ,  0.  ,  0.  ]])"
      ]
     },
     "execution_count": 103,
     "metadata": {},
     "output_type": "execute_result"
    }
   ],
   "source": [
    "X_train.T"
   ]
  },
  {
   "cell_type": "code",
   "execution_count": 104,
   "metadata": {},
   "outputs": [
    {
     "data": {
      "text/plain": [
       "array([[0.73805813, 0.72501983, 0.74255675, ..., 0.74276698, 0.71408348,\n",
       "        0.75046616]])"
      ]
     },
     "execution_count": 104,
     "metadata": {},
     "output_type": "execute_result"
    }
   ],
   "source": [
    "y_train.T"
   ]
  },
  {
   "cell_type": "code",
   "execution_count": 429,
   "metadata": {},
   "outputs": [
    {
     "data": {
      "text/plain": [
       "array([[-0.08493049, -0.20821804, -0.38082062, ...,  0.43287724,\n",
       "        -0.43013564, -0.89862836],\n",
       "       [-0.42161574, -0.17424953,  0.43718901, ..., -0.15987269,\n",
       "        -0.11378223,  0.75263379],\n",
       "       [ 0.6297638 ,  0.57687292, -1.22141719, ...,  0.78843646,\n",
       "         0.15374583, -1.27430807],\n",
       "       ...,\n",
       "       [ 0.        ,  0.        ,  0.        , ...,  0.        ,\n",
       "         0.        ,  1.        ],\n",
       "       [ 0.        ,  0.        ,  1.        , ...,  0.        ,\n",
       "         0.        ,  0.        ],\n",
       "       [ 0.        ,  0.        ,  0.        , ...,  0.        ,\n",
       "         1.        ,  0.        ]])"
      ]
     },
     "execution_count": 429,
     "metadata": {},
     "output_type": "execute_result"
    }
   ],
   "source": [
    "X_train.T"
   ]
  },
  {
   "cell_type": "code",
   "execution_count": 121,
   "metadata": {},
   "outputs": [
    {
     "data": {
      "text/plain": [
       "(1, 960)"
      ]
     },
     "execution_count": 121,
     "metadata": {},
     "output_type": "execute_result"
    }
   ],
   "source": []
  },
  {
   "cell_type": "code",
   "execution_count": null,
   "metadata": {},
   "outputs": [],
   "source": []
  }
 ],
 "metadata": {
  "kernelspec": {
   "display_name": "Python 3",
   "language": "python",
   "name": "python3"
  },
  "language_info": {
   "codemirror_mode": {
    "name": "ipython",
    "version": 3
   },
   "file_extension": ".py",
   "mimetype": "text/x-python",
   "name": "python",
   "nbconvert_exporter": "python",
   "pygments_lexer": "ipython3",
   "version": "3.6.4"
  }
 },
 "nbformat": 4,
 "nbformat_minor": 2
}
